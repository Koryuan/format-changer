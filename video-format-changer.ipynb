{
 "cells": [
  {
   "cell_type": "code",
   "execution_count": 4,
   "id": "acb16b15-c490-4aef-ab1c-f2ae419536d2",
   "metadata": {},
   "outputs": [],
   "source": [
    "# Create file directory if didn't exist\n",
    "import os\n",
    "\n",
    "input_folder = r\"data\"\n",
    "output_folder = r\"output\"\n",
    "\n",
    "try:\n",
    "    os.makedirs(input_folder, exist_ok=True)\n",
    "    os.makedirs(output_folder, exist_ok=True)\n",
    "except OSError:\n",
    "    pass"
   ]
  },
  {
   "cell_type": "code",
   "execution_count": 5,
   "id": "c8b28d11-49d0-4a1d-8b6e-7df287ab6a59",
   "metadata": {},
   "outputs": [
    {
     "data": {
      "text/plain": [
       "['第01話.ts', '第02話.ts', '第03話.ts']"
      ]
     },
     "execution_count": 5,
     "metadata": {},
     "output_type": "execute_result"
    }
   ],
   "source": [
    "import os\n",
    "\n",
    "video_list = os.listdir(input_folder)\n",
    "video_list"
   ]
  },
  {
   "cell_type": "code",
   "execution_count": 47,
   "id": "6c8cb7f8-9ceb-46f9-a5ae-15c60ed57dee",
   "metadata": {},
   "outputs": [],
   "source": [
    "import subprocess\n",
    "\n",
    "def convert_video(data_path:str, output_path:str, target_format:str):\n",
    "    try:\n",
    "        subprocess.run([\"FFmpeg\", \"-i\", data_path, \"-codec\", \"copy\", \n",
    "                        output_path], check=True)\n",
    "    except Exception as e:\n",
    "        print(f\"Failed to convert file to {target_format} with exception:\\n{e}\")"
   ]
  },
  {
   "cell_type": "code",
   "execution_count": 45,
   "id": "470b1e4b-109c-4b1d-bfae-678bcd02bccf",
   "metadata": {},
   "outputs": [],
   "source": [
    "import os\n",
    "\n",
    "def convert_data_by_part(data_folder:str, output_folder:str, start_index:int, end_index:int, file_list, target_format:str=\"mp4\"):\n",
    "    total = 0\n",
    "    for n in range(start_index, end_index):\n",
    "        file = file_list[n]\n",
    "        name, ext = os.path.splitext(file)\n",
    "        data_path = os.path.join(data_folder, file)\n",
    "        output_path = os.path.join(output_folder, f\"{name}.{target_format}\")\n",
    "        convert_video(data_path, output_path, target_format)\n",
    "        total += 1\n",
    "    print(f\"total image processed = {total}\")"
   ]
  },
  {
   "cell_type": "code",
   "execution_count": 29,
   "id": "cc3c4bd2-c79d-442e-8468-12a3aac153e5",
   "metadata": {},
   "outputs": [],
   "source": [
    "import os\n",
    "\n",
    "def clear_output_folder(output_folder:str):\n",
    "    files = os.listdir(output_folder)\n",
    "    for file in files:\n",
    "        os.remove(file)"
   ]
  },
  {
   "cell_type": "code",
   "execution_count": 34,
   "id": "9d92f821-a109-49f4-ba9b-3979cf80ed80",
   "metadata": {},
   "outputs": [],
   "source": [
    "import os\n",
    "import threading\n",
    "import multiprocessing\n",
    "import math\n",
    "import time\n",
    "\n",
    "def start_convert_video(data_folder:str, output_folder:str, target_format:str, use_thread=False):\n",
    "    start_time = time.time()\n",
    "    video_list = os.listdir(data_folder)\n",
    "    clear_output_folder(output_folder)\n",
    "    \n",
    "    length = len(video_list)\n",
    "    if length == 0:\n",
    "        print(\"There is no data to convert\")\n",
    "        return\n",
    "    \n",
    "    total_thread = 10\n",
    "    \n",
    "    if use_thread:\n",
    "        threads = []\n",
    "        if total_thread > length:\n",
    "            total_thread = length\n",
    "        divider = length//total_thread\n",
    "\n",
    "        total = total_thread\n",
    "        if length%divider != 0:\n",
    "            total += 1\n",
    "        for n in range(total):\n",
    "            start_index = n*divider\n",
    "            if start_index > length:\n",
    "                continue\n",
    "            end_index = min((n+1)*divider, length)\n",
    "            args = data_folder, output_folder, start_index, end_index, video_list, target_format\n",
    "            thread = threading.Thread(target=convert_data_by_part, args=args, daemon=True)\n",
    "            threads.append(thread)\n",
    "            thread.start()\n",
    "\n",
    "        for thread in threads:\n",
    "            thread.join()\n",
    "    else:\n",
    "        convert_data_by_part(data_folder, output_folder, 0, length, file_list)\n",
    "\n",
    "    elapsed_time = int(time.time() - start_time)\n",
    "    hour = elapsed_time//3600\n",
    "    minute = (elapsed_time - hour*3600)//60\n",
    "    second = (elapsed_time - hour*3600 - minute*60)\n",
    "    print(f\"time elapsed: {hour:02d}:{minute:02d}:{second:02d}\")"
   ]
  },
  {
   "cell_type": "code",
   "execution_count": 48,
   "id": "0f7af1ca-c133-4aa4-862a-73d3b0295b23",
   "metadata": {},
   "outputs": [
    {
     "name": "stdout",
     "output_type": "stream",
     "text": [
      "total image processed = 1\n",
      "total image processed = 1\n",
      "total image processed = 1\n",
      "time elapsed: 00:00:00\n"
     ]
    }
   ],
   "source": [
    "start_convert_video(input_folder, output_folder, \"mp4\", use_thread=True)"
   ]
  }
 ],
 "metadata": {
  "kernelspec": {
   "display_name": "Python 3 (ipykernel)",
   "language": "python",
   "name": "python3"
  },
  "language_info": {
   "codemirror_mode": {
    "name": "ipython",
    "version": 3
   },
   "file_extension": ".py",
   "mimetype": "text/x-python",
   "name": "python",
   "nbconvert_exporter": "python",
   "pygments_lexer": "ipython3",
   "version": "3.11.5"
  }
 },
 "nbformat": 4,
 "nbformat_minor": 5
}
