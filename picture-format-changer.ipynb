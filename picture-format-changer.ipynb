{
 "cells": [
  {
   "cell_type": "code",
   "execution_count": null,
   "id": "0eb61f8e-6855-4fa2-87fe-5d6c7ecc9ad9",
   "metadata": {},
   "outputs": [],
   "source": [
    "# Create file directory if didn't exist\n",
    "import os\n",
    "\n",
    "input_folder = r\"data\"\n",
    "output_folder = r\"output\"\n",
    "\n",
    "try:\n",
    "    os.makedirs(input_folder, exist_ok=True)\n",
    "    os.makedirs(output_folder, exist_ok=True)\n",
    "except OSError:\n",
    "    pass"
   ]
  },
  {
   "cell_type": "code",
   "execution_count": null,
   "id": "828076c5-4249-413e-855a-f900735b81cd",
   "metadata": {},
   "outputs": [],
   "source": [
    "from PIL import Image, ImageSequence\n",
    "\n",
    "def IsGif(data_path:str):\n",
    "    try:\n",
    "        webp_image = Image.open(data_path)\n",
    "        Index = 0\n",
    "        for Frame in ImageSequence.Iterator(webp_image):\n",
    "            Index += 1\n",
    "        return Index > 1\n",
    "    except:\n",
    "        return False"
   ]
  },
  {
   "cell_type": "code",
   "execution_count": null,
   "id": "033cf49f-9a21-4a73-bd6b-fa8266a677a3",
   "metadata": {},
   "outputs": [],
   "source": [
    "from PIL import Image\n",
    "\n",
    "# functin to convert webp to png/gif\n",
    "def convert_webp_to_png(data_path:str, output_path:str, is_gif:bool, format='png'):\n",
    "    try:\n",
    "        webp_image = Image.open(data_path)\n",
    "        if is_gif:\n",
    "            webp_image.save(output_path, format='gif', save_all=True,lossless=True, quality=100, method=6)\n",
    "        else:\n",
    "            png_image = webp_image.convert(\"RGBA\")\n",
    "            png_image.save(output_path, format=format,lossless=True, quality=100, method=6)\n",
    "\n",
    "        print(f\"{data_path} convert to {output_path}\")\n",
    "    except Exception as e:\n",
    "        print(f\"An error occurred while converting {data_path}: {e}\")"
   ]
  },
  {
   "cell_type": "code",
   "execution_count": null,
   "id": "43a2e02b-2b30-433e-baf5-088ad8966e6a",
   "metadata": {},
   "outputs": [],
   "source": [
    "def get_path_by_name(data_folder:str, output_folder:str, file_name:str):\n",
    "    image_name, ext = = os.path.splitext(file_name)\n",
    "    data_path = f\"{data_folder}\\\\{file_name}\"\n",
    "    output_path = f\"{output_folder}\\\\{image_name}.png\"\n",
    "    is_gif = IsGif(data_path)\n",
    "    if is_gif:\n",
    "        output_path = f\"{output_folder}\\\\{image_name}.gif\"\n",
    "    return data_path, output_path, is_gif"
   ]
  },
  {
   "cell_type": "code",
   "execution_count": null,
   "id": "f9bc3803-881a-4e1f-a3c8-870e17a6ccea",
   "metadata": {},
   "outputs": [],
   "source": [
    "def convert_data_by_part(data_folder:str, output_folder:str, start_index:int, end_index:int, file_list):\n",
    "    print(start_index, end_index)\n",
    "    total = 0\n",
    "    for n in range(start_index, end_index):\n",
    "        file_name = file_list[n]\n",
    "        data_path, output_path, is_gif = get_path_by_name(data_folder, output_folder, file_name)\n",
    "        convert_webp_to_png(data_path, output_path, is_gif)\n",
    "        total += 1\n",
    "    print(f\"total image processed = {total}\")"
   ]
  },
  {
   "cell_type": "code",
   "execution_count": null,
   "id": "60703ec2-e171-43aa-bd0a-bf732ff4c760",
   "metadata": {
    "scrolled": true
   },
   "outputs": [],
   "source": [
    "import os\n",
    "import threading\n",
    "import multiprocessing\n",
    "import math\n",
    "import time\n",
    "\n",
    "def convert_data_to_png(data_folder:str, output_folder:str, use_thread=False):\n",
    "    start_time = time.time()\n",
    "    file_list = os.listdir(input_folder)\n",
    "    length = len(file_list)\n",
    "    if length == 0:\n",
    "        print(\"There is no data to convert\")\n",
    "        return\n",
    "    \n",
    "    total_thread = 10\n",
    "    \n",
    "    if use_thread:\n",
    "        threads = []\n",
    "        if total_thread > length:\n",
    "            total_thread = length\n",
    "        divider = length//total_thread\n",
    "\n",
    "        total = total_thread\n",
    "        if length%divider != 0:\n",
    "            total += 1\n",
    "        for n in range(total):\n",
    "            start_index = n*divider\n",
    "            if start_index > length:\n",
    "                continue\n",
    "            end_index = min((n+1)*divider, length)\n",
    "            args = data_folder, output_folder, start_index, end_index, file_list\n",
    "            thread = threading.Thread(target=convert_data_by_part, args=args, daemon=True)\n",
    "            threads.append(thread)\n",
    "            thread.start()\n",
    "\n",
    "        for thread in threads:\n",
    "            thread.join()\n",
    "    else:\n",
    "        convert_data_by_part(data_folder, output_folder, 0, length, file_list)\n",
    "\n",
    "    elapsed_time = int(time.time() - start_time)\n",
    "    hour = elapsed_time//3600\n",
    "    minute = (elapsed_time - hour*3600)//60\n",
    "    second = (elapsed_time - hour*3600 - minute*60)\n",
    "    print(f\"time elapsed: {hour:02d}:{minute:02d}:{second:02d}\")"
   ]
  },
  {
   "cell_type": "code",
   "execution_count": null,
   "id": "e455473d-b343-47f4-abe1-4e06defe5aac",
   "metadata": {},
   "outputs": [],
   "source": [
    "convert_data_to_png(input_folder, output_folder, use_thread=True)"
   ]
  }
 ],
 "metadata": {
  "kernelspec": {
   "display_name": "Python 3 (ipykernel)",
   "language": "python",
   "name": "python3"
  },
  "language_info": {
   "codemirror_mode": {
    "name": "ipython",
    "version": 3
   },
   "file_extension": ".py",
   "mimetype": "text/x-python",
   "name": "python",
   "nbconvert_exporter": "python",
   "pygments_lexer": "ipython3",
   "version": "3.11.5"
  }
 },
 "nbformat": 4,
 "nbformat_minor": 5
}
