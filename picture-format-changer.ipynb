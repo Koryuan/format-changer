{
 "cells": [
  {
   "cell_type": "code",
   "execution_count": 25,
   "id": "0eb61f8e-6855-4fa2-87fe-5d6c7ecc9ad9",
   "metadata": {},
   "outputs": [],
   "source": [
    "# Create file directory if didn't exist\n",
    "import os\n",
    "\n",
    "input_folder = r\"data\"\n",
    "output_folder = r\"output\"\n",
    "\n",
    "try:\n",
    "    os.makedirs(input_folder, exist_ok=True)\n",
    "    os.makedirs(output_folder, exist_ok=True)\n",
    "except OSError:\n",
    "    pass"
   ]
  },
  {
   "cell_type": "code",
   "execution_count": 38,
   "id": "033cf49f-9a21-4a73-bd6b-fa8266a677a3",
   "metadata": {},
   "outputs": [],
   "source": [
    "from PIL import Image\n",
    "\n",
    "# functin to convert webp to png/gif\n",
    "def convert_webp_to_png(data_path:str, output_path:str, format='png'):\n",
    "    try:\n",
    "        webp_image = Image.open(data_path)\n",
    "        png_image = webp_image.convert(\"RGBA\")\n",
    "        png_image.save(output_path, format=format,lossless=True, quality=100, method=6)\n",
    "\n",
    "        print(f\"{data_path} convert to {output_path}\")\n",
    "    except Exception as e:\n",
    "        print(f\"An error occurred while converting: {e}\")"
   ]
  },
  {
   "cell_type": "code",
   "execution_count": 27,
   "id": "43a2e02b-2b30-433e-baf5-088ad8966e6a",
   "metadata": {},
   "outputs": [],
   "source": [
    "def get_path_by_name(data_folder:str, output_folder:str, file_name:str):\n",
    "    image_name = file_name.replace('.webp', '')\n",
    "    data_path = f\"{data_folder}\\\\{file_name}\"\n",
    "    output_path = f\"{output_folder}\\\\{image_name}.png\"\n",
    "    return data_path, output_path"
   ]
  },
  {
   "cell_type": "code",
   "execution_count": 28,
   "id": "f9bc3803-881a-4e1f-a3c8-870e17a6ccea",
   "metadata": {},
   "outputs": [],
   "source": [
    "def convert_data_by_part(data_folder:str, output_folder:str, start_index:int, end_index:int, file_list):\n",
    "    print(start_index, end_index)\n",
    "    total = 0\n",
    "    for n in range(start_index, end_index):\n",
    "        file_name = file_list[n]\n",
    "        data_path, output_path = get_path_by_name(data_folder, output_folder, file_name)\n",
    "        convert_webp_to_png(data_path, output_path)\n",
    "        total += 1\n",
    "    print(f\"total image processed = {total}\")"
   ]
  },
  {
   "cell_type": "code",
   "execution_count": 34,
   "id": "60703ec2-e171-43aa-bd0a-bf732ff4c760",
   "metadata": {
    "scrolled": true
   },
   "outputs": [],
   "source": [
    "import os\n",
    "import threading\n",
    "import multiprocessing\n",
    "import math\n",
    "\n",
    "def convert_data_to_png(data_folder:str, output_folder:str, use_thread=False):\n",
    "    file_list = os.listdir(input_folder)\n",
    "    length = len(file_list)\n",
    "    total_thread = 10\n",
    "    \n",
    "    if use_thread:\n",
    "        threads = []\n",
    "        divider = length//total_thread\n",
    "\n",
    "        total = total_thread\n",
    "        if length%divider != 0:\n",
    "            total += 1\n",
    "        for n in range(11):\n",
    "            start_index = n*divider\n",
    "            if start_index > length:\n",
    "                continue\n",
    "            end_index = min((n+1)*divider, length)\n",
    "            args = data_folder, output_folder, start_index, end_index, file_list\n",
    "            #multiprocessing.Process(target=convert_data_by_part, args=args, daemon=True).start()\n",
    "            thread = threading.Thread(target=convert_data_by_part, args=args, daemon=True)\n",
    "            threads.append(thread)\n",
    "            thread.start()\n",
    "\n",
    "        for thread in threads:\n",
    "            thread.join()\n",
    "    else:\n",
    "        convert_data_by_part(data_folder, output_folder, 0, length, file_list)"
   ]
  },
  {
   "cell_type": "code",
   "execution_count": null,
   "id": "e455473d-b343-47f4-abe1-4e06defe5aac",
   "metadata": {},
   "outputs": [
    {
     "name": "stdout",
     "output_type": "stream",
     "text": [
      "0 23\n",
      "23 46\n",
      "46 69\n",
      "69 92\n",
      "92 115\n",
      "115 138\n",
      "138 161\n",
      "161 184\n",
      "184 207\n",
      "207 230\n",
      "230 231\n",
      "data\\139.webp convert to output\\139.png\n",
      "data\\116.webp convert to output\\116.png\n",
      "data\\162.webp convert to output\\162.png\n",
      "data\\208.webp convert to output\\208.png\n",
      "data\\024.webp convert to output\\024.png\n"
     ]
    }
   ],
   "source": [
    "convert_data_to_png(input_folder, output_folder, use_thread=True)"
   ]
  }
 ],
 "metadata": {
  "kernelspec": {
   "display_name": "Python 3 (ipykernel)",
   "language": "python",
   "name": "python3"
  },
  "language_info": {
   "codemirror_mode": {
    "name": "ipython",
    "version": 3
   },
   "file_extension": ".py",
   "mimetype": "text/x-python",
   "name": "python",
   "nbconvert_exporter": "python",
   "pygments_lexer": "ipython3",
   "version": "3.11.5"
  }
 },
 "nbformat": 4,
 "nbformat_minor": 5
}
