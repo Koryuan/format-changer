{
 "cells": [
  {
   "cell_type": "code",
   "execution_count": 1,
   "id": "20ae5e5c-7b64-451d-a3ec-957d1378e1a3",
   "metadata": {},
   "outputs": [],
   "source": [
    "# Create file directory if didn't exist\n",
    "import os\n",
    "\n",
    "input_folder = r\"data\"\n",
    "output_folder = r\"output\"\n",
    "\n",
    "try:\n",
    "    os.makedirs(input_folder, exist_ok=True)\n",
    "    os.makedirs(output_folder, exist_ok=True)\n",
    "except OSError:\n",
    "    pass"
   ]
  },
  {
   "cell_type": "code",
   "execution_count": 23,
   "id": "11f62379-daea-44b4-9325-7a29a55c1aaa",
   "metadata": {},
   "outputs": [],
   "source": [
    "import os, sys\n",
    "from PIL import Image\n",
    "\n",
    "def resize_image_by_path(width:int, height:int, path:str, keep_aspect:bool):\n",
    "    size = width, height\n",
    "    input_path = os.path.join(input_folder, path)\n",
    "    output_path = os.path.join(output_folder, path)\n",
    "    \n",
    "    with Image.open(input_path) as im:\n",
    "        if keep_aspect:\n",
    "            im.thumbnail(size)\n",
    "        else:\n",
    "            im = im.resize(size);\n",
    "        im.save(output_path, \"PNG\")\n",
    "    print(\"Done\")"
   ]
  },
  {
   "cell_type": "code",
   "execution_count": 19,
   "id": "8be4156b-c853-4fdc-a304-8a6a36f5d8bc",
   "metadata": {},
   "outputs": [],
   "source": [
    "import os\n",
    "\n",
    "def resize_image_all(width:int, height:int, keep_aspect:bool = True):\n",
    "    file_list = os.listdir(input_folder)\n",
    "    length = len(file_list)\n",
    "    if length == 0:\n",
    "        print(\"There is no data to convert\")\n",
    "        return\n",
    "\n",
    "    for path in file_list:\n",
    "        resize_image_by_path(width, height, path, keep_aspect)"
   ]
  },
  {
   "cell_type": "code",
   "execution_count": 24,
   "id": "3963af8f-caa6-4133-bd34-af19ddb2cea1",
   "metadata": {},
   "outputs": [
    {
     "name": "stdout",
     "output_type": "stream",
     "text": [
      "Done\n"
     ]
    }
   ],
   "source": [
    "resize_image_all(256, 256, False)"
   ]
  }
 ],
 "metadata": {
  "kernelspec": {
   "display_name": "Python 3 (ipykernel)",
   "language": "python",
   "name": "python3"
  },
  "language_info": {
   "codemirror_mode": {
    "name": "ipython",
    "version": 3
   },
   "file_extension": ".py",
   "mimetype": "text/x-python",
   "name": "python",
   "nbconvert_exporter": "python",
   "pygments_lexer": "ipython3",
   "version": "3.11.9"
  }
 },
 "nbformat": 4,
 "nbformat_minor": 5
}
