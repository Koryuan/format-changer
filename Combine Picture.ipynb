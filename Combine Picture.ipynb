{
 "cells": [
  {
   "cell_type": "code",
   "execution_count": 1,
   "id": "5305ac1a-13e5-422f-afbb-329e736abc9c",
   "metadata": {},
   "outputs": [],
   "source": [
    "# Create file directory if didn't exist\n",
    "import os\n",
    "\n",
    "input_folder = r\"data\"\n",
    "output_folder = r\"output\"\n",
    "\n",
    "try:\n",
    "    os.makedirs(input_folder, exist_ok=True)\n",
    "    os.makedirs(output_folder, exist_ok=True)\n",
    "except OSError:\n",
    "    pass"
   ]
  },
  {
   "cell_type": "code",
   "execution_count": null,
   "id": "2317d98b-55bb-4c1e-83d7-a7dea0163c1e",
   "metadata": {},
   "outputs": [],
   "source": [
    "from PIL import Image, ImageSequence\n",
    "\n",
    "def IsGif(data_path:str):\n",
    "    try:\n",
    "        webp_image = Image.open(data_path)\n",
    "        Index = 0\n",
    "        for Frame in ImageSequence.Iterator(webp_image):\n",
    "            Index += 1\n",
    "        return Index > 1\n",
    "    except:\n",
    "        return False"
   ]
  },
  {
   "cell_type": "code",
   "execution_count": null,
   "id": "6d6b7213-fb35-4aef-85b8-bb77911ac2b0",
   "metadata": {},
   "outputs": [],
   "source": [
    "from PIL import Image\n",
    "\n",
    "# functin to convert webp to png/gif\n",
    "def convert_webp_to_png(data_path:str, output_path:str, is_gif:bool, format='png'):\n",
    "    try:\n",
    "        webp_image = Image.open(data_path)\n",
    "        if is_gif:\n",
    "            webp_image.save(output_path, format='gif', save_all=True,lossless=True, quality=100, method=6)\n",
    "        else:\n",
    "            png_image = webp_image.convert(\"RGBA\")\n",
    "            png_image.save(output_path, format=format,lossless=True, quality=100, method=6)\n",
    "\n",
    "        print(f\"{data_path} convert to {output_path}\")\n",
    "    except Exception as e:\n",
    "        print(f\"An error occurred while converting {data_path}: {e}\")"
   ]
  },
  {
   "cell_type": "code",
   "execution_count": null,
   "id": "59429be2-2952-4ef5-8904-1eec6a77cfc8",
   "metadata": {},
   "outputs": [],
   "source": [
    "def get_path_by_name(data_folder:str, output_folder:str, file_name:str):\n",
    "    image_name, ext = os.path.splitext(file_name)\n",
    "    data_path = f\"{data_folder}\\\\{file_name}\"\n",
    "    output_path = f\"{output_folder}\\\\{image_name}.png\"\n",
    "    is_gif = IsGif(data_path)\n",
    "    if is_gif:\n",
    "        output_path = f\"{output_folder}\\\\{image_name}.gif\"\n",
    "    return data_path, output_path, is_gif"
   ]
  },
  {
   "cell_type": "code",
   "execution_count": null,
   "id": "5954996f-3e99-4a06-a0d3-af7258590391",
   "metadata": {},
   "outputs": [],
   "source": [
    "def convert_data_by_part(data_folder:str, output_folder:str, start_index:int, end_index:int, file_list):\n",
    "    print(start_index, end_index)\n",
    "    total = 0\n",
    "    for n in range(start_index, end_index):\n",
    "        file_name = file_list[n]\n",
    "        data_path, output_path, is_gif = get_path_by_name(data_folder, output_folder, file_name)\n",
    "        convert_webp_to_png(data_path, output_path, is_gif)\n",
    "        total += 1\n",
    "    print(f\"total image processed = {total}\")"
   ]
  },
  {
   "cell_type": "code",
   "execution_count": 53,
   "id": "2f13136a-3335-4e76-8755-b9ec2c26ec8f",
   "metadata": {},
   "outputs": [],
   "source": [
    "import os\n",
    "from PIL import Image\n",
    "\n",
    "def get_all_image(data_folder:str):\n",
    "    file_list = os.listdir(data_folder)\n",
    "\n",
    "    image_list = []\n",
    "    for n in file_list:\n",
    "        image_name, ext = os.path.splitext(n)\n",
    "        image = Image.open(os.path.join(data_folder, n))\n",
    "\n",
    "        if \"png\" in ext:\n",
    "            image.load()\n",
    "\n",
    "            background = Image.new(\"RGB\", image.size, (255, 255, 255))\n",
    "            background.paste(image, mask=image.split()[3])\n",
    "            \n",
    "        image_list.append(image)\n",
    "    return image_list"
   ]
  },
  {
   "cell_type": "code",
   "execution_count": 54,
   "id": "81af95f9-a863-4846-be55-baa245f00468",
   "metadata": {},
   "outputs": [],
   "source": [
    "import os\n",
    "import threading\n",
    "import multiprocessing\n",
    "import math\n",
    "import time\n",
    "\n",
    "def combine_picture(data_folder:str, output_folder:str, target:str):\n",
    "    # Start time\n",
    "    start_time = time.time()\n",
    "    \n",
    "    image_list = get_all_image(data_folder)\n",
    "    final_path = os.path.join(output_folder, f\"combined.{target}\")\n",
    "    if len(image_list) == 0:\n",
    "        return\n",
    "    if len(image_list) > 1:\n",
    "        image_list[0].save(final_path, target.upper(), resolution=100.0, save_all=True, append_images=image_list[1:])\n",
    "    else:\n",
    "        image_list[0].save(final_path, target.upper(), resolution=100.0)\n",
    "    \n",
    "    # Calculate time\n",
    "    elapsed_time = int(time.time() - start_time)\n",
    "    hour = elapsed_time//3600\n",
    "    minute = (elapsed_time - hour*3600)//60\n",
    "    second = (elapsed_time - hour*3600 - minute*60)\n",
    "    print(f\"time elapsed: {hour:02d}:{minute:02d}:{second:02d}\")"
   ]
  },
  {
   "cell_type": "code",
   "execution_count": 55,
   "id": "b880f070-e5d0-4319-9ab2-112069950e00",
   "metadata": {},
   "outputs": [
    {
     "name": "stdout",
     "output_type": "stream",
     "text": [
      "[<PIL.PngImagePlugin.PngImageFile image mode=RGBA size=256x256 at 0x23C1E1B1790>]\n",
      "time elapsed: 00:00:00\n"
     ]
    }
   ],
   "source": [
    "combine_picture(input_folder, output_folder, \"PDF\")"
   ]
  }
 ],
 "metadata": {
  "kernelspec": {
   "display_name": "Python 3 (ipykernel)",
   "language": "python",
   "name": "python3"
  },
  "language_info": {
   "codemirror_mode": {
    "name": "ipython",
    "version": 3
   },
   "file_extension": ".py",
   "mimetype": "text/x-python",
   "name": "python",
   "nbconvert_exporter": "python",
   "pygments_lexer": "ipython3",
   "version": "3.11.9"
  }
 },
 "nbformat": 4,
 "nbformat_minor": 5
}
